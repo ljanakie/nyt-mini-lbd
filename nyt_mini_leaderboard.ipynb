{
  "nbformat": 4,
  "nbformat_minor": 0,
  "metadata": {
    "colab": {
      "provenance": [],
      "authorship_tag": "ABX9TyNLHiP8SOMwMU135BijXfx5",
      "include_colab_link": true
    },
    "kernelspec": {
      "name": "python3",
      "display_name": "Python 3"
    },
    "language_info": {
      "name": "python"
    }
  },
  "cells": [
    {
      "cell_type": "markdown",
      "metadata": {
        "id": "view-in-github",
        "colab_type": "text"
      },
      "source": [
        "<a href=\"https://colab.research.google.com/github/ljanakie/nyt-mini-lbd/blob/main/nyt_mini_leaderboard.ipynb\" target=\"_parent\"><img src=\"https://colab.research.google.com/assets/colab-badge.svg\" alt=\"Open In Colab\"/></a>"
      ]
    },
    {
      "cell_type": "markdown",
      "source": [
        "# NYT Mini Crossword Leaderboard"
      ],
      "metadata": {
        "id": "l4MkMCIxU2uk"
      }
    },
    {
      "cell_type": "markdown",
      "source": [
        "Steps:\n",
        "1. Login to NYT\n",
        "  - consider using Selenium\n",
        "  - may need to install Chromedriver\n",
        "2. Extract the data\n",
        "3. Put the data into a table\n",
        "\n"
      ],
      "metadata": {
        "id": "huaBZfyrhg83"
      }
    },
    {
      "cell_type": "markdown",
      "source": [
        "Resources:\n",
        "\n",
        "https://medium.com/@kikigulab/how-to-automate-opening-and-login-to-websites-with-python-6aeaf1f6ae98\n",
        "\n",
        "https://github.com/mattdodge/nyt-crossword-stats/blob/master/fetch_puzzle_stats.py"
      ],
      "metadata": {
        "id": "QPJyJ7ATjc33"
      }
    },
    {
      "cell_type": "code",
      "source": [
        "import requests\n",
        "from bs4 import BeautifulSoup\n",
        "import pandas as pd\n",
        "\n",
        "# Your NYT username and password\n",
        "username = 'ljanakiefski97@gmail.com'\n",
        "password = 'Janala18'\n",
        "\n",
        "# URLs\n",
        "login_url = 'https://myaccount.nytimes.com/auth/enter-email?redirect_uri=https%3A%2F%2Fwww.nytimes.com%2Fpuzzles%2Fstats&response_type=cookie&client_id=games&application=crosswords&asset=navigation-bar'\n",
        "continue_url = 'https://myaccount.nytimes.com/auth/login?redirect_uri=https%3A%2F%2Fwww.nytimes.com%2Fpuzzles%2Fstats&response_type=cookie&client_id=games&application=crosswords&asset=navigation-bar'\n",
        "login_action = 'https://www.nytimes.com/puzzles/stats?login=email&auth=login-email'\n",
        "leaderboard_url = 'https://www.nytimes.com/puzzles/leaderboards'\n",
        "\n",
        "# Create a session\n",
        "session = requests.Session()\n",
        "\n",
        "# Fetch the login page\n",
        "login_response = session.get(login_url)\n",
        "login_soup = BeautifulSoup(login_response.text, 'html.parser')\n",
        "\n",
        "# Extract necessary form data (e.g., CSRF token, etc.) if needed\n",
        "# ...\n",
        "\n",
        "# Perform continue action\n",
        "continue_form = login_soup.find('form', id='continue-form')  # Assuming there is a form with id 'continue-form'\n",
        "continue_data = {\n",
        "    # Provide any necessary form data required to proceed with the continue action\n",
        "    # Example: 'csrf_token': csrf_token,\n",
        "    # ...\n",
        "}\n",
        "continue_response = session.post(continue_url, data=continue_data)\n",
        "\n",
        "# Perform login\n",
        "login_data = {\n",
        "    'username': username,\n",
        "    'password': password\n",
        "}\n",
        "login_response = session.post(login_url, data=login_data)\n",
        "\n",
        "# Check if login was successful (you may need to inspect the response to determine this)\n",
        "# ...\n",
        "\n",
        "# Fetch the leaderboard page\n",
        "response = session.get(leaderboard_url)\n",
        "html_content = response.content\n",
        "\n",
        "# Parse the HTML\n",
        "soup = BeautifulSoup(html_content, 'html.parser')\n"
      ],
      "metadata": {
        "id": "iK65onqegkui"
      },
      "execution_count": null,
      "outputs": []
    },
    {
      "cell_type": "code",
      "source": [
        "print(login_response)"
      ],
      "metadata": {
        "colab": {
          "base_uri": "https://localhost:8080/"
        },
        "id": "1UMF8GcBhXqT",
        "outputId": "df47de71-9d79-409c-8106-b0a2d4648f34"
      },
      "execution_count": null,
      "outputs": [
        {
          "output_type": "stream",
          "name": "stdout",
          "text": [
            "<Response [403]>\n"
          ]
        }
      ]
    },
    {
      "cell_type": "code",
      "source": [
        "# Find the element containing the leaderboard data\n",
        "leaderboard_items = soup.find('div', class_='lbd-board__items')\n",
        "\n",
        "# Initialize empty lists to store data\n",
        "names = []\n",
        "times = []\n",
        "\n",
        "# Extract data from the leaderboard items\n",
        "for item in leaderboard_items.find_all('div', class_='lbd-score'):\n",
        "    rank = item.find('div', class_='lbd-score__rank').text.strip()\n",
        "    name = item.find('div', class_='lbd-score__name').text.strip()\n",
        "    time = item.find('div', class_='lbd-score__time').text.strip()\n",
        "    rank.append(rank)\n",
        "    names.append(name)\n",
        "    times.append(time)\n",
        "\n",
        "# Create a dictionary from the lists\n",
        "data = {'Name': names, 'Rank': rank, 'Time': times}\n",
        "\n",
        "# Create a DataFrame\n",
        "df = pd.DataFrame(data)\n",
        "\n",
        "# Display the DataFrame\n",
        "print(df)\n"
      ],
      "metadata": {
        "colab": {
          "base_uri": "https://localhost:8080/",
          "height": 218
        },
        "id": "UoXJnMTeZ3oi",
        "outputId": "eaf6c16c-e9ca-42fe-f79e-2fdd5beda79f"
      },
      "execution_count": null,
      "outputs": [
        {
          "output_type": "error",
          "ename": "AttributeError",
          "evalue": "'NoneType' object has no attribute 'find_all'",
          "traceback": [
            "\u001b[0;31m---------------------------------------------------------------------------\u001b[0m",
            "\u001b[0;31mAttributeError\u001b[0m                            Traceback (most recent call last)",
            "\u001b[0;32m<ipython-input-6-7928b0ae2e3d>\u001b[0m in \u001b[0;36m<cell line: 42>\u001b[0;34m()\u001b[0m\n\u001b[1;32m     40\u001b[0m \u001b[0;34m\u001b[0m\u001b[0m\n\u001b[1;32m     41\u001b[0m \u001b[0;31m# Extract data from the leaderboard items\u001b[0m\u001b[0;34m\u001b[0m\u001b[0;34m\u001b[0m\u001b[0m\n\u001b[0;32m---> 42\u001b[0;31m \u001b[0;32mfor\u001b[0m \u001b[0mitem\u001b[0m \u001b[0;32min\u001b[0m \u001b[0mleaderboard_items\u001b[0m\u001b[0;34m.\u001b[0m\u001b[0mfind_all\u001b[0m\u001b[0;34m(\u001b[0m\u001b[0;34m'div'\u001b[0m\u001b[0;34m,\u001b[0m \u001b[0mclass_\u001b[0m\u001b[0;34m=\u001b[0m\u001b[0;34m'lbd-score'\u001b[0m\u001b[0;34m)\u001b[0m\u001b[0;34m:\u001b[0m\u001b[0;34m\u001b[0m\u001b[0;34m\u001b[0m\u001b[0m\n\u001b[0m\u001b[1;32m     43\u001b[0m     \u001b[0mrank\u001b[0m \u001b[0;34m=\u001b[0m \u001b[0mitem\u001b[0m\u001b[0;34m.\u001b[0m\u001b[0mfind\u001b[0m\u001b[0;34m(\u001b[0m\u001b[0;34m'div'\u001b[0m\u001b[0;34m,\u001b[0m \u001b[0mclass_\u001b[0m\u001b[0;34m=\u001b[0m\u001b[0;34m'lbd-score__rank'\u001b[0m\u001b[0;34m)\u001b[0m\u001b[0;34m.\u001b[0m\u001b[0mtext\u001b[0m\u001b[0;34m.\u001b[0m\u001b[0mstrip\u001b[0m\u001b[0;34m(\u001b[0m\u001b[0;34m)\u001b[0m\u001b[0;34m\u001b[0m\u001b[0;34m\u001b[0m\u001b[0m\n\u001b[1;32m     44\u001b[0m     \u001b[0mname\u001b[0m \u001b[0;34m=\u001b[0m \u001b[0mitem\u001b[0m\u001b[0;34m.\u001b[0m\u001b[0mfind\u001b[0m\u001b[0;34m(\u001b[0m\u001b[0;34m'div'\u001b[0m\u001b[0;34m,\u001b[0m \u001b[0mclass_\u001b[0m\u001b[0;34m=\u001b[0m\u001b[0;34m'lbd-score__name'\u001b[0m\u001b[0;34m)\u001b[0m\u001b[0;34m.\u001b[0m\u001b[0mtext\u001b[0m\u001b[0;34m.\u001b[0m\u001b[0mstrip\u001b[0m\u001b[0;34m(\u001b[0m\u001b[0;34m)\u001b[0m\u001b[0;34m\u001b[0m\u001b[0;34m\u001b[0m\u001b[0m\n",
            "\u001b[0;31mAttributeError\u001b[0m: 'NoneType' object has no attribute 'find_all'"
          ]
        }
      ]
    },
    {
      "cell_type": "code",
      "source": [
        "print(response)\n",
        "#print(leaderboard_items)"
      ],
      "metadata": {
        "colab": {
          "base_uri": "https://localhost:8080/"
        },
        "id": "97WzSyE5e0t5",
        "outputId": "3300627c-1921-44fd-8c95-937585734389"
      },
      "execution_count": null,
      "outputs": [
        {
          "output_type": "stream",
          "name": "stdout",
          "text": [
            "<Response [403]>\n"
          ]
        }
      ]
    },
    {
      "cell_type": "code",
      "source": [
        "import argparse\n",
        "import os\n",
        "from csv import DictWriter\n",
        "from datetime import datetime, timedelta\n",
        "\n",
        "import requests\n",
        "from dotenv import load_dotenv\n",
        "from tqdm import tqdm\n",
        "\n",
        "load_dotenv()\n",
        "\n",
        "API_ROOT = \"http://www.nytimes.com/svc/crosswords\"\n",
        "PUZZLE_INFO = API_ROOT + \"/v3/puzzles.json\"\n",
        "PUZZLE_DETAIL = API_ROOT + \"/v6/game/\"\n",
        "\n",
        "DATE_FORMAT = \"%Y-%m-%d\"\n",
        "\n",
        "parser = argparse.ArgumentParser(description=\"Fetch NYT Crossword stats\")\n",
        "parser.add_argument(\"-u\", \"--username\", help=\"NYT Account Email Address\")\n",
        "parser.add_argument(\"-p\", \"--password\", help=\"NYT Account Password\")\n",
        "parser.add_argument(\n",
        "    \"-s\",\n",
        "    \"--start-date\",\n",
        "    help=\"The first date to pull from, inclusive (defaults to 30 days ago)\",\n",
        "    default=datetime.strftime(datetime.now() - timedelta(days=30), DATE_FORMAT),\n",
        ")\n",
        "parser.add_argument(\n",
        "    \"-e\",\n",
        "    \"--end-date\",\n",
        "    help=\"The last date to pull from, inclusive (defaults to today)\",\n",
        "    default=datetime.strftime(datetime.now(), DATE_FORMAT),\n",
        ")\n",
        "parser.add_argument(\n",
        "    \"-o\", \"--output-csv\", help=\"The CSV file to write to\", default=\"data.csv\"\n",
        ")\n",
        "parser.add_argument(\n",
        "    \"-t\",\n",
        "    \"--type\",\n",
        "    help='The type of puzzle data to fetch. Valid values are \"daily\", \"bonus\", and \"mini\" (defaults to daily)',\n",
        "    default=\"daily\",\n",
        ")\n",
        "\n",
        "\n",
        "def login(username, password):\n",
        "    \"\"\"Return the NYT-S cookie after logging in\"\"\"\n",
        "    login_resp = requests.post(\n",
        "        \"https://myaccount.nytimes.com/svc/ios/v2/login\",\n",
        "        data={\n",
        "            \"login\": username,\n",
        "            \"password\": password,\n",
        "        },\n",
        "        headers={\n",
        "            \"User-Agent\": \"Crosswords/20191213190708 CFNetwork/1128.0.1 Darwin/19.6.0\",\n",
        "            \"client_id\": \"ios.crosswords\",\n",
        "        },\n",
        "    )\n",
        "    login_resp.raise_for_status()\n",
        "    for cookie in login_resp.json()[\"data\"][\"cookies\"]:\n",
        "        if cookie[\"name\"] == \"NYT-S\":\n",
        "            return cookie[\"cipheredValue\"]\n",
        "    raise ValueError(\"NYT-S cookie not found\")\n",
        "\n",
        "\n",
        "def get_v3_puzzle_overview(puzzle_type, start_date, end_date, cookie):\n",
        "    payload = {\n",
        "        \"publish_type\": puzzle_type,\n",
        "        \"sort_order\": \"asc\",\n",
        "        \"sort_by\": \"print_date\",\n",
        "        \"date_start\": start_date.strftime(\"%Y-%m-%d\"),\n",
        "        \"date_end\": end_date.strftime(\"%Y-%m-%d\"),\n",
        "    }\n",
        "\n",
        "    overview_resp = requests.get(PUZZLE_INFO, params=payload, cookies={\"NYT-S\": cookie})\n",
        "\n",
        "    overview_resp.raise_for_status()\n",
        "    puzzle_info = overview_resp.json().get(\"results\")\n",
        "    return puzzle_info\n",
        "\n",
        "\n",
        "def get_v3_puzzle_detail(puzzle_id, cookie):\n",
        "    puzzle_resp = requests.get(\n",
        "        f\"{PUZZLE_DETAIL}/{puzzle_id}.json\", cookies={\"NYT-S\": cookie}\n",
        "    )\n",
        "\n",
        "    puzzle_resp.raise_for_status()\n",
        "    puzzle_detail = puzzle_resp.json()[\"calcs\"]\n",
        "\n",
        "    return puzzle_detail\n",
        "\n",
        "\n",
        "if __name__ == \"__main__\":\n",
        "    args = parser.parse_args()\n",
        "    cookie = os.getenv(\"NYT_COOKIE\")\n",
        "    if not cookie:\n",
        "        cookie = login(args.username, args.password)\n",
        "\n",
        "    start_date = datetime.strptime(args.start_date, DATE_FORMAT)\n",
        "    end_date = datetime.strptime(args.end_date, DATE_FORMAT)\n",
        "\n",
        "    days_between = (end_date - start_date).days\n",
        "    batches = (days_between // 100) + 1\n",
        "\n",
        "    print(\n",
        "        f\"Getting stats from {args.start_date} until {args.end_date} in {batches} batches\"\n",
        "    )\n",
        "\n",
        "    date = start_date\n",
        "\n",
        "    if end_date - start_date > timedelta(days=100):\n",
        "        batch_end = start_date + timedelta(days=100)\n",
        "    else:\n",
        "        batch_end = end_date\n",
        "    batch_start = start_date\n",
        "\n",
        "    puzzle_overview = []\n",
        "\n",
        "    for batch in (pbar := tqdm(range(batches))):\n",
        "        pbar.set_description(f\"Start date: {batch_start}\")\n",
        "        batch_overview = get_v3_puzzle_overview(\n",
        "            puzzle_type=args.type,\n",
        "            start_date=batch_start,\n",
        "            end_date=batch_end,\n",
        "            cookie=cookie,\n",
        "        )\n",
        "        puzzle_overview.extend(batch_overview)\n",
        "        batch_start = batch_start + timedelta(days=100)\n",
        "        batch_end = batch_end + timedelta(days=100)\n",
        "\n",
        "    print(\"\\nGetting puzzle solve times\\n\")\n",
        "\n",
        "    for puzzle in tqdm(puzzle_overview):\n",
        "        detail = get_v3_puzzle_detail(puzzle_id=puzzle[\"puzzle_id\"], cookie=cookie)\n",
        "        puzzle[\"solving_seconds\"] = detail.get(\"secondsSpentSolving\", None)\n",
        "        puzzle[\"day_of_week_name\"] = datetime.strptime(puzzle[\"print_date\"], DATE_FORMAT).strftime('%A')\n",
        "        puzzle[\"day_of_week_integer\"] = datetime.strptime(puzzle[\"print_date\"], DATE_FORMAT).strftime('%w')\n",
        "\n",
        "    fields = [\n",
        "        \"author\",\n",
        "        \"editor\",\n",
        "        \"format_type\",\n",
        "        \"print_date\",\n",
        "        \"day_of_week_name\",\n",
        "        \"day_of_week_integer\",\n",
        "        \"publish_type\",\n",
        "        \"puzzle_id\",\n",
        "        \"title\",\n",
        "        \"version\",\n",
        "        \"percent_filled\",\n",
        "        \"solved\",\n",
        "        \"star\",\n",
        "        \"solving_seconds\",\n",
        "    ]\n",
        "\n",
        "    print(\"Writing stats to {}\".format(args.output_csv))\n",
        "\n",
        "    with open(args.output_csv, \"w\") as f:\n",
        "        writer = DictWriter(f, fields)\n",
        "        writer.writeheader()\n",
        "        writer.writerows(puzzle_overview)\n",
        "\n",
        "    print(\"{} rows written to {}\".format(len(puzzle_overview), args.output_csv))"
      ],
      "metadata": {
        "colab": {
          "base_uri": "https://localhost:8080/",
          "height": 397
        },
        "id": "4LAm6hvpY5bp",
        "outputId": "6b0234af-0094-43d4-8dc0-ae0e323d3a97"
      },
      "execution_count": null,
      "outputs": [
        {
          "output_type": "error",
          "ename": "ModuleNotFoundError",
          "evalue": "No module named 'dotenv'",
          "traceback": [
            "\u001b[0;31m---------------------------------------------------------------------------\u001b[0m",
            "\u001b[0;31mModuleNotFoundError\u001b[0m                       Traceback (most recent call last)",
            "\u001b[0;32m<ipython-input-2-24abf6d3a17d>\u001b[0m in \u001b[0;36m<cell line: 7>\u001b[0;34m()\u001b[0m\n\u001b[1;32m      5\u001b[0m \u001b[0;34m\u001b[0m\u001b[0m\n\u001b[1;32m      6\u001b[0m \u001b[0;32mimport\u001b[0m \u001b[0mrequests\u001b[0m\u001b[0;34m\u001b[0m\u001b[0;34m\u001b[0m\u001b[0m\n\u001b[0;32m----> 7\u001b[0;31m \u001b[0;32mfrom\u001b[0m \u001b[0mdotenv\u001b[0m \u001b[0;32mimport\u001b[0m \u001b[0mload_dotenv\u001b[0m\u001b[0;34m\u001b[0m\u001b[0;34m\u001b[0m\u001b[0m\n\u001b[0m\u001b[1;32m      8\u001b[0m \u001b[0;32mfrom\u001b[0m \u001b[0mtqdm\u001b[0m \u001b[0;32mimport\u001b[0m \u001b[0mtqdm\u001b[0m\u001b[0;34m\u001b[0m\u001b[0;34m\u001b[0m\u001b[0m\n\u001b[1;32m      9\u001b[0m \u001b[0;34m\u001b[0m\u001b[0m\n",
            "\u001b[0;31mModuleNotFoundError\u001b[0m: No module named 'dotenv'",
            "",
            "\u001b[0;31m---------------------------------------------------------------------------\u001b[0;32m\nNOTE: If your import is failing due to a missing package, you can\nmanually install dependencies using either !pip or !apt.\n\nTo view examples of installing some common dependencies, click the\n\"Open Examples\" button below.\n\u001b[0;31m---------------------------------------------------------------------------\u001b[0m\n"
          ],
          "errorDetails": {
            "actions": [
              {
                "action": "open_url",
                "actionText": "Open Examples",
                "url": "/notebooks/snippets/importing_libraries.ipynb"
              }
            ]
          }
        }
      ]
    },
    {
      "cell_type": "code",
      "execution_count": null,
      "metadata": {
        "id": "DuPKuwY2UwK0"
      },
      "outputs": [],
      "source": [
        "import argparse\n",
        "import requests\n",
        "import csv\n",
        "from bs4 import BeautifulSoup as soup\n",
        "from datetime import datetime\n",
        "\n",
        "parser = argparse.ArgumentParser(description=\"Get Mini Times\")\n",
        "parser.add_argument(\n",
        "    '-u', '--username', required=True)\n",
        "parser.add_argument(\n",
        "    '-p', '--password', required=True)\n",
        "parser.add_argument(\n",
        "    '-o', '--output', default='mini_data.csv'\n",
        ")\n",
        "\n",
        "players = ['ljanakie', 'Kelly', 'DJanakie', 'austin', 'NGJ']\n",
        "\n",
        "def login(username, password):\n",
        "    login_resp = requests.post(\n",
        "        'https://myaccount.nytimes.com/svc/ios/v2/login',\n",
        "        data={\n",
        "            'login': username,\n",
        "            'password': password,\n",
        "        },\n",
        "        headers={\n",
        "            'User-Agent': 'Mozilla/5.0',\n",
        "            'client_id': 'ios.crosswords',\n",
        "        }\n",
        "    )\n",
        "    login_resp.raise_for_status()\n",
        "    for cookie in login_resp.json()['data']['cookies']:\n",
        "        if cookie['name'] == 'NYT-S':\n",
        "            return cookie['cipheredValue']\n",
        "    raise ValueError('NYT-S cookie not found')\n",
        "\n",
        "def get_mini_times(cookie,output):\n",
        "    url = \"https://www.nytimes.com/puzzles/leaderboards\"\n",
        "    response = requests.get(url, cookies={\n",
        "        'NYT-S': cookie,\n",
        "    },\n",
        "    )\n",
        "    page = soup(response.content, features='html.parser')\n",
        "    solvers = page.find_all('div', class_='lbd-score')\n",
        "    current_datetime = datetime.now()\n",
        "    month = str(current_datetime.strftime(\"%m\"))\n",
        "    day = str(current_datetime.strftime(\"%d\"))\n",
        "    year = str(current_datetime.strftime(\"%Y\"))\n",
        "    daytimes=[]\n",
        "    print('--------------------------')\n",
        "    print(\"Mini Times for \" + month + '-' + day + '-' + year)\n",
        "    for solver in solvers:\n",
        "        name = solver.find('p', class_='lbd-score__name').text.strip()\n",
        "        try:\n",
        "            time = solver.find('p', class_='lbd-score__time').text.strip()\n",
        "        except:\n",
        "            time=\"--\"\n",
        "        if name.endswith(\"(you)\"):\n",
        "            name_split = name.split()\n",
        "            name = name_split[0]\n",
        "        if name in players:\n",
        "            daytimes.append([month,day,year,name,time])\n",
        "    with open(output, 'w') as csvfile:\n",
        "        csvwriter = csv.writer(csvfile)\n",
        "        csvwriter.writerows(daytimes)\n",
        "\n",
        "if __name__ == '__main__':\n",
        "    args = parser.parse_args()\n",
        "    cookie = login(args.username, args.password)\n",
        "    get_mini_times(cookie,args.output)\n"
      ]
    }
  ]
}